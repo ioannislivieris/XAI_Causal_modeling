{
 "cells": [
  {
   "attachments": {},
   "cell_type": "markdown",
   "metadata": {},
   "source": [
    "# Libraries"
   ]
  },
  {
   "cell_type": "code",
   "execution_count": 7,
   "metadata": {},
   "outputs": [
    {
     "name": "stdout",
     "output_type": "stream",
     "text": [
      "[INFO] All libraries were imported\n"
     ]
    }
   ],
   "source": [
    "import warnings\n",
    "warnings.filterwarnings('ignore')\n",
    "\n",
    "import shap\n",
    "import numpy as np\n",
    "import pandas as pd\n",
    "import matplotlib.pyplot as plt\n",
    "import seaborn as sns\n",
    "from os import listdir\n",
    "from os.path import isfile, join\n",
    "\n",
    "print('[INFO] All libraries were imported')"
   ]
  },
  {
   "attachments": {},
   "cell_type": "markdown",
   "metadata": {},
   "source": [
    "## Parameters"
   ]
  },
  {
   "cell_type": "code",
   "execution_count": 8,
   "metadata": {},
   "outputs": [],
   "source": [
    "Problem = 'Synthetic'  # IHDP, Synthetic\n",
    "problem_type = 'linear'  # 'linear', 'sin'\n",
    "p = 0.3\n",
    "idx = 164  # Used for IHDP\n",
    "Model = 'Modified-Dragonnet'  # 'Dragonnet', 'Modified-Dragonnet', ...\n",
    "metric = 'euclidean'  # 'euclidean', 'cityblock', 'chebyshev'\n",
    "k = 11\n",
    "\n",
    "figsize = (20, 2)\n",
    "\n",
    "\n",
    "if Problem == 'Synthetic':\n",
    "    Problem = f'{Problem}-{problem_type}-{p}'\n",
    "else:\n",
    "    Problem = f'{Problem}-{idx}'\n",
    "\n",
    "if Model == 'Modified-Dragonnet':\n",
    "    Model = f'{Model}_k={k}_metric={metric}'\n"
   ]
  },
  {
   "attachments": {},
   "cell_type": "markdown",
   "metadata": {},
   "source": [
    "# Permutation Feature Importance"
   ]
  },
  {
   "cell_type": "code",
   "execution_count": 9,
   "metadata": {},
   "outputs": [
    {
     "data": {
      "text/html": [
       "<div>\n",
       "<style scoped>\n",
       "    .dataframe tbody tr th:only-of-type {\n",
       "        vertical-align: middle;\n",
       "    }\n",
       "\n",
       "    .dataframe tbody tr th {\n",
       "        vertical-align: top;\n",
       "    }\n",
       "\n",
       "    .dataframe thead th {\n",
       "        text-align: right;\n",
       "    }\n",
       "</style>\n",
       "<table border=\"1\" class=\"dataframe\">\n",
       "  <thead>\n",
       "    <tr style=\"text-align: right;\">\n",
       "      <th></th>\n",
       "      <th>Error_PEHE</th>\n",
       "      <th>Error_ATE</th>\n",
       "      <th>MSE_0</th>\n",
       "      <th>MSE_1</th>\n",
       "      <th>Feature</th>\n",
       "      <th>Iteration</th>\n",
       "    </tr>\n",
       "  </thead>\n",
       "  <tbody>\n",
       "    <tr>\n",
       "      <th>0</th>\n",
       "      <td>7008.763741</td>\n",
       "      <td>41.007858</td>\n",
       "      <td>-4496.088291</td>\n",
       "      <td>1826.951205</td>\n",
       "      <td>X1</td>\n",
       "      <td>0</td>\n",
       "    </tr>\n",
       "    <tr>\n",
       "      <th>1</th>\n",
       "      <td>575.026330</td>\n",
       "      <td>4.285168</td>\n",
       "      <td>-50.219139</td>\n",
       "      <td>-191.634399</td>\n",
       "      <td>X1</td>\n",
       "      <td>1</td>\n",
       "    </tr>\n",
       "    <tr>\n",
       "      <th>2</th>\n",
       "      <td>245.195921</td>\n",
       "      <td>1.860851</td>\n",
       "      <td>-12.710558</td>\n",
       "      <td>-86.146257</td>\n",
       "      <td>X1</td>\n",
       "      <td>2</td>\n",
       "    </tr>\n",
       "  </tbody>\n",
       "</table>\n",
       "</div>"
      ],
      "text/plain": [
       "    Error_PEHE  Error_ATE        MSE_0        MSE_1 Feature  Iteration\n",
       "0  7008.763741  41.007858 -4496.088291  1826.951205      X1          0\n",
       "1   575.026330   4.285168   -50.219139  -191.634399      X1          1\n",
       "2   245.195921   1.860851   -12.710558   -86.146257      X1          2"
      ]
     },
     "execution_count": 9,
     "metadata": {},
     "output_type": "execute_result"
    }
   ],
   "source": [
    "filename = f'./PFI/Problem={Problem}_Model={Model}.csv'\n",
    "    \n",
    "df = pd.read_csv(filename)\n",
    "\n",
    "df.head(3)"
   ]
  },
  {
   "cell_type": "code",
   "execution_count": 10,
   "metadata": {},
   "outputs": [
    {
     "data": {
      "image/png": "[encoded data removed]",
      "text/plain": [
       "<Figure size 1440x144 with 1 Axes>"
      ]
     },
     "metadata": {
      "needs_background": "light"
     },
     "output_type": "display_data"
    },
    {
     "data": {
      "image/png": "[encoded data removed]",
      "text/plain": [
       "<Figure size 1440x144 with 1 Axes>"
      ]
     },
     "metadata": {
      "needs_background": "light"
     },
     "output_type": "display_data"
    }
   ],
   "source": [
    "for performance_metric in ['MSE_0', 'MSE_1']:\n",
    "    plt.figure(figsize=figsize)\n",
    "    sns.barplot(x=\"Feature\", y=performance_metric, data=df, estimator=np.mean, ci=95, capsize=.2, color='tab:blue');\n",
    "\n",
    "    plt.ylabel('Importance', size=12)\n",
    "    plt.xlabel('Feature', size=12)\n",
    "    plt.xticks(rotation=45)\n",
    "    plt.title(f'Output-{performance_metric[-1]}');"
   ]
  },
  {
   "cell_type": "markdown",
   "metadata": {},
   "source": [
    "# SHAP"
   ]
  },
  {
   "cell_type": "code",
   "execution_count": 11,
   "metadata": {},
   "outputs": [],
   "source": [
    "filename = f'./SHAP/Problem={Problem}_Model={Model}.npz'\n",
    "\n",
    "shap_values = np.load(filename)['shap_values']\n",
    "Features = np.load(filename)['Features']"
   ]
  },
  {
   "cell_type": "code",
   "execution_count": 12,
   "metadata": {},
   "outputs": [
    {
     "data": {
      "image/png": "[encoded data removed]",
      "text/plain": [
       "<Figure size 1440x144 with 1 Axes>"
      ]
     },
     "metadata": {
      "needs_background": "light"
     },
     "output_type": "display_data"
    },
    {
     "data": {
      "image/png": "[encoded data removed]",
      "text/plain": [
       "<Figure size 1440x144 with 1 Axes>"
      ]
     },
     "metadata": {
      "needs_background": "light"
     },
     "output_type": "display_data"
    }
   ],
   "source": [
    "# shap.initjs()\n",
    "# shap.summary_plot(shap_values[1], plot_type = 'bar', feature_names = Features, plot_size = (8, 10), max_display=25)\n",
    "\n",
    "for idx in range(2):\n",
    "    df = pd.DataFrame({})\n",
    "    df['Features'] = Features\n",
    "    df['SHAP'] = np.abs(shap_values[idx]).mean(axis=0)\n",
    "    df.set_index('Features', inplace=True)\n",
    "\n",
    "    df.plot(kind='bar', figsize = (20, 2), color='tab:orange')\n",
    "\n",
    "    plt.title(f'Output-{idx}')\n",
    "    plt.ylabel('Importance', size=14)\n",
    "    plt.xlabel('Features', size=14)\n",
    "    plt.xticks(rotation=45)\n",
    "    plt.legend([])\n",
    "    plt.show()"
   ]
  }
 ],
 "metadata": {
  "kernelspec": {
   "display_name": "tensorflow",
   "language": "python",
   "name": "python3"
  },
  "language_info": {
   "codemirror_mode": {
    "name": "ipython",
    "version": 3
   },
   "file_extension": ".py",
   "mimetype": "text/x-python",
   "name": "python",
   "nbconvert_exporter": "python",
   "pygments_lexer": "ipython3",
   "version": "3.7.10"
  },
  "toc": {
   "base_numbering": 1,
   "nav_menu": {},
   "number_sections": true,
   "sideBar": true,
   "skip_h1_title": false,
   "title_cell": "Table of Contents",
   "title_sidebar": "Contents",
   "toc_cell": false,
   "toc_position": {
    "height": "calc(100% - 180px)",
    "left": "10px",
    "top": "150px",
    "width": "307.2px"
   },
   "toc_section_display": true,
   "toc_window_display": true
  },
  "vscode": {
   "interpreter": {
    "hash": "f8692f46610980770f61291bec1cab73f5a660600a4995e682050817c9e58235"
   }
  }
 },
 "nbformat": 4,
 "nbformat_minor": 4
}
