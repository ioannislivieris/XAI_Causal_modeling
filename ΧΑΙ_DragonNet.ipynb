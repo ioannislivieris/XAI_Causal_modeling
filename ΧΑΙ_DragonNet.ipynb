{
 "cells": [
  {
   "attachments": {},
   "cell_type": "markdown",
   "metadata": {},
   "source": [
    "# Libraries"
   ]
  },
  {
   "cell_type": "code",
   "execution_count": 1,
   "metadata": {
    "scrolled": true
   },
   "outputs": [
    {
     "name": "stdout",
     "output_type": "stream",
     "text": [
      "[INFO] All libraries were imported\n"
     ]
    }
   ],
   "source": [
    "import warnings\n",
    "warnings.filterwarnings(\"ignore\")\n",
    "\n",
    "import os\n",
    "os.environ['TF_CPP_MIN_LOG_LEVEL'] = '3' \n",
    "\n",
    "# Basic libraries\n",
    "#\n",
    "import random\n",
    "import time\n",
    "import numpy  as np\n",
    "import pandas as pd\n",
    "import matplotlib.pyplot as plt\n",
    "\n",
    "# =-=-=-=-=-=-=-=-=-=-=-=-=-=-=-=-=-=-=-=-=-=-=-=-=-=-=-=-=-=-=-=\n",
    "# Sklearn library\n",
    "#\n",
    "from sklearn.preprocessing   import StandardScaler\n",
    "\n",
    "\n",
    "# =-=-=-=-=-=-=-=-=-=-=-=-=-=-=-=-=-=-=-=-=-=-=-=-=-=-=-=-=-=-=-=\n",
    "# Tensorflow library\n",
    "#\n",
    "import tensorflow                as tf\n",
    "from tensorflow.keras.optimizers import SGD, Adam\n",
    "from tensorflow.keras.callbacks  import TerminateOnNaN, EarlyStopping, ReduceLROnPlateau\n",
    "from tensorflow.keras.utils      import plot_model\n",
    "\n",
    "# =-=-=-=-=-=-=-=-=-=-=-=-=-=-=-=-=-=-=-=-=-=-=-=-=-=-=-=-=-=-=-=\n",
    "# User libraries\n",
    "#\n",
    "from utils.metrics      import PEHE, ATE\n",
    "from utils.Loss         import *\n",
    "from utils.DragonNet    import *\n",
    "from utils.utils        import MSE\n",
    "from utils.dataloader   import *\n",
    "\n",
    "print('[INFO] All libraries were imported')"
   ]
  },
  {
   "cell_type": "markdown",
   "metadata": {},
   "source": [
    "# Parameters"
   ]
  },
  {
   "cell_type": "code",
   "execution_count": 2,
   "metadata": {},
   "outputs": [],
   "source": [
    "# 1. Linear (linear)\n",
    "# 2. Nonlinear (sin)\n",
    "# 3. Normally distributed x, linearly independent (lin_ind_normal)\n",
    "# 4. Non-normally distributed x, linearly independent (lin_ind_mixed)\n",
    "# 5. Non-normally distributed x, with dependecies & linear correlations (lin_corr_mixed)\n",
    "# 6. Non-normally distributed x, with dependecies & linear correlations (corr_interactions))\n",
    "\n",
    "Problem = 'Synthetic'\n",
    "problem_type = 'lin_ind_normal'\n",
    "train_size = 0.8\n",
    "n_f, n_i = 10, 5\n",
    "nInstances = 1000 # size\n",
    "p = 0.3\n",
    "seed = 42\n",
    "\n",
    "Model = 'Dragonnet'\n",
    "\n",
    "\n",
    "\n",
    "random.seed(seed)\n",
    "os.environ[\"PYTHONHASHSEED\"] = str(seed)\n",
    "np.random.seed(seed)\n",
    "tf.random.set_seed(seed) \n",
    "# tf.random.set_random_seed(seed) # for Tensoflow v1"
   ]
  },
  {
   "cell_type": "code",
   "execution_count": 3,
   "metadata": {},
   "outputs": [],
   "source": [
    "targeted_regularization    = True # {True, False}\n",
    "\n",
    "output_dir                 = ''\n",
    "knob_loss                  = dragonnet_loss_binarycross\n",
    "ratio                      = 1.\n",
    "validation_split           = 0.2\n",
    "batch_size                 = 64\n",
    "verbose                    = False\n",
    "\n",
    "\n",
    "\n",
    "\n",
    "metrics = [regression_loss, binary_classification_loss, treatment_accuracy, track_epsilon]\n",
    "\n",
    "if targeted_regularization:\n",
    "    loss = make_tarreg_loss(ratio=ratio, dragonnet_loss=knob_loss)\n",
    "else:\n",
    "    loss = knob_loss"
   ]
  },
  {
   "cell_type": "code",
   "execution_count": 4,
   "metadata": {},
   "outputs": [],
   "source": [
    "DataLoader = Synthetic(type=problem_type, size=nInstances, n_f=n_f, n_i=n_i, p=p, seed=seed)\n",
    "DataLoader.create_dataset(train_size=0.8)"
   ]
  },
  {
   "cell_type": "markdown",
   "metadata": {
    "cell_style": "split"
   },
   "source": [
    "# Simulations"
   ]
  },
  {
   "cell_type": "code",
   "execution_count": 5,
   "metadata": {
    "scrolled": true
   },
   "outputs": [
    {
     "name": "stdout",
     "output_type": "stream",
     "text": [
      "[INFO] Datasets imported\n",
      "[INFO] Training - Phase I - Time 7.83 secs\n",
      "[INFO] Training - Phase II - Time 40.04 secs\n",
      "[INFO] Error of PEHE and ATE computed\n",
      "[INFO] Time 48.95\n",
      "\n",
      "\n"
     ]
    }
   ],
   "source": [
    "# Start timer\n",
    "#\n",
    "start1 = time.time()\n",
    "\n",
    "\n",
    "# Load training data\n",
    "#\n",
    "trainX, trainT, trainY, train_potential_Y = DataLoader.get_training_data()\n",
    "\n",
    "# Load testing data\n",
    "#\n",
    "testX, testT, testY, test_potential_Y = DataLoader.get_testing_data()\n",
    "#\n",
    "print('[INFO] Datasets imported')\n",
    "\n",
    "\n",
    "# Setup scaler for inputs\n",
    "scalerX = StandardScaler()\n",
    "trainX  = scalerX.fit_transform( trainX )\n",
    "testX   = scalerX.transform( testX )\n",
    "\n",
    "\n",
    "\n",
    "\n",
    "# Setup DragonNet\n",
    "#\n",
    "dragonnet = make_dragonnet(trainX.shape[1], 0.01)\n",
    "\n",
    "\n",
    "# Create outputs for DragonNet (concatenate Y & T)\n",
    "#\n",
    "yt_train = np.concatenate([trainY.reshape(-1,1), trainT.reshape(-1,1)], axis = 1)\n",
    "\n",
    "\n",
    "#\n",
    "#\n",
    "# *** Training - Phase I ***\n",
    "#\n",
    "#\n",
    "\n",
    "# Compile network\n",
    "#\n",
    "dragonnet.compile(optimizer = Adam(lr=1e-3), \n",
    "                    loss      = loss, \n",
    "                    metrics   = metrics)\n",
    "\n",
    "# Setup callbacks\n",
    "callbacks = [TerminateOnNaN(),\n",
    "                EarlyStopping(monitor   = 'val_loss', \n",
    "                            patience  = 2, \n",
    "                            min_delta = 0.),\n",
    "                ReduceLROnPlateau(monitor   = 'loss', \n",
    "                                factor    = 0.5, \n",
    "                                patience  = 5, \n",
    "                                verbose   = verbose, \n",
    "                                mode      = 'auto', \n",
    "                                min_delta = 1e-8, \n",
    "                                cooldown  = 0, \n",
    "                                min_lr    = 0)]\n",
    "\n",
    "start_time = time.time()\n",
    "\n",
    "# Training\n",
    "#\n",
    "dragonnet.fit(trainX, yt_train, \n",
    "                callbacks        = callbacks,\n",
    "                validation_split = validation_split,\n",
    "                epochs           = 100,\n",
    "                batch_size       = batch_size, \n",
    "                verbose          = verbose)\n",
    "\n",
    "\n",
    "print(\"[INFO] Training - Phase I - Time %.2f secs\" % (time.time() - start_time) )\n",
    "\n",
    "\n",
    "\n",
    "\n",
    "\n",
    "\n",
    "\n",
    "#\n",
    "#\n",
    "# *** Training - Phase II ***\n",
    "#\n",
    "#    \n",
    "\n",
    "# Setup callbacks\n",
    "#\n",
    "callbacks = [TerminateOnNaN(),\n",
    "                EarlyStopping(monitor   = 'val_loss', \n",
    "                            patience  = 40, \n",
    "                            min_delta = 0.),\n",
    "                ReduceLROnPlateau(monitor   = 'loss', \n",
    "                                factor    = 0.5, \n",
    "                                patience  = 5, \n",
    "                                verbose   = verbose, \n",
    "                                mode      = 'auto',\n",
    "                                min_delta = 0., \n",
    "                                cooldown  = 0, \n",
    "                                min_lr    = 0)\n",
    "]\n",
    "\n",
    "# Compile network\n",
    "#\n",
    "dragonnet.compile(optimizer = SGD(lr=1e-5, momentum=0.9, nesterov=True), \n",
    "                    loss      = loss,\n",
    "                    metrics   = metrics)\n",
    "\n",
    "\n",
    "\n",
    "\n",
    "start_time = time.time()\n",
    "\n",
    "# Training\n",
    "#\n",
    "dragonnet.fit(trainX, yt_train, \n",
    "                callbacks        = callbacks,\n",
    "                validation_split = validation_split,\n",
    "                epochs           = 300,\n",
    "                batch_size       = batch_size, \n",
    "                verbose          = verbose)\n",
    "\n",
    "print(\"[INFO] Training - Phase II - Time %.2f secs\" % (time.time() - start_time) )\n",
    "\n",
    "\n",
    "\n",
    "\n",
    "\n",
    "#\n",
    "#\n",
    "# *** Predictions ***\n",
    "#\n",
    "#       \n",
    "yt_hat_test  = dragonnet.predict( testX, verbose=False )\n",
    "\n",
    "# Get predictions\n",
    "#\n",
    "test_y_hat = yt_hat_test[:,:2]\n",
    "\n",
    "\n",
    "# Get propensity score\n",
    "#\n",
    "propensity_score = yt_hat_test[:,2]\n",
    "\n",
    "\n",
    "\n",
    "\n",
    "# Results\n",
    "Results = dict()\n",
    "Results['Error_PEHE'] = PEHE(test_potential_Y, test_y_hat)\n",
    "Results['Error_ATE'] = ATE(test_potential_Y, test_y_hat)  \n",
    "Results['MSE_0'] = MSE(test_potential_Y[:,0], test_y_hat[:,0])\n",
    "Results['MSE_1'] = MSE(test_potential_Y[:,1], test_y_hat[:,1])\n",
    "\n",
    "    \n",
    "print('[INFO] Error of PEHE and ATE computed')\n",
    "print('[INFO] Time %.2f\\n\\n' % (time.time() - start1))"
   ]
  },
  {
   "cell_type": "code",
   "execution_count": 6,
   "metadata": {},
   "outputs": [
    {
     "data": {
      "text/plain": [
       "{'Error_PEHE': 1893.7017600137385,\n",
       " 'Error_ATE': 42.633172833846594,\n",
       " 'MSE_0': 316311.3681228014,\n",
       " 'MSE_1': 274800.50374648615}"
      ]
     },
     "execution_count": 6,
     "metadata": {},
     "output_type": "execute_result"
    }
   ],
   "source": [
    "import json\n",
    "filename = f'Results/Problem={Problem}-{problem_type}-{p}_Model={Model}.json'\n",
    "\n",
    "with open(filename, \"w\") as outfile:\n",
    "    json.dump(Results, outfile)\n",
    "\n",
    "Results"
   ]
  },
  {
   "cell_type": "code",
   "execution_count": 7,
   "metadata": {},
   "outputs": [
    {
     "data": {
      "image/png": "[encoded data removed]",
      "text/plain": [
       "<Figure size 1200x500 with 6 Axes>"
      ]
     },
     "metadata": {},
     "output_type": "display_data"
    }
   ],
   "source": [
    "fig, ax = plt.subplots(2, 3, figsize=(12,5) )\n",
    "\n",
    "ax[0][0].hist(test_potential_Y[:,0], bins=100, color='blue');\n",
    "ax[0][1].hist(yt_hat_test[:,0], bins=100, color='red');\n",
    "ax[0][2].hist(yt_hat_test[:,0] - test_potential_Y[:,0], bins=100, color='tab:blue', alpha = 0.5);\n",
    "\n",
    "ax[1][0].hist(test_potential_Y[:,1], bins=100, color='blue');\n",
    "ax[1][1].hist(yt_hat_test[:,1], bins=100, color='red');\n",
    "ax[1][2].hist(yt_hat_test[:,1] - test_potential_Y[:,0], bins=100, color='tab:blue', alpha = 0.5);\n",
    "\n",
    "ax[0][0].legend(['Q0 (true)'], frameon=False);\n",
    "ax[0][1].legend(['Q0 (predicted)'], frameon=False);\n",
    "ax[0][2].legend(['Q0 (Error)'], frameon=False);\n",
    "\n",
    "ax[1][0].legend(['Q1 (true)'], frameon=False);\n",
    "ax[1][1].legend(['Q1 (predicted)'], frameon=False);\n",
    "ax[1][2].legend(['Q1 (Error)'], frameon=False);\n",
    "\n",
    "fig.savefig(f'images/Problem={Problem}-{problem_type}-{p}_Model={Model}.png', dpi=100, transparent=True)"
   ]
  },
  {
   "attachments": {},
   "cell_type": "markdown",
   "metadata": {},
   "source": [
    "# Feature Importance"
   ]
  },
  {
   "attachments": {},
   "cell_type": "markdown",
   "metadata": {},
   "source": [
    "## Permutation Feature Importance"
   ]
  },
  {
   "cell_type": "code",
   "execution_count": 8,
   "metadata": {},
   "outputs": [],
   "source": [
    "# Set feature names\n",
    "Features = [f'X{i+1}' for i in range(testX.shape[1])]\n",
    "\n",
    "# Number of Iteration for Permutation-Feature-Importance\n",
    "nSimulations = 100"
   ]
  },
  {
   "cell_type": "code",
   "execution_count": 9,
   "metadata": {},
   "outputs": [
    {
     "name": "stdout",
     "output_type": "stream",
     "text": [
      "Feature:  X1\n"
     ]
    },
    {
     "name": "stderr",
     "output_type": "stream",
     "text": [
      "100%|██████████| 100/100 [00:16<00:00,  5.98it/s]\n"
     ]
    },
    {
     "name": "stdout",
     "output_type": "stream",
     "text": [
      "Feature:  X2\n"
     ]
    },
    {
     "name": "stderr",
     "output_type": "stream",
     "text": [
      "100%|██████████| 100/100 [00:16<00:00,  6.25it/s]\n"
     ]
    },
    {
     "name": "stdout",
     "output_type": "stream",
     "text": [
      "Feature:  X3\n"
     ]
    },
    {
     "name": "stderr",
     "output_type": "stream",
     "text": [
      "100%|██████████| 100/100 [00:17<00:00,  5.81it/s]\n"
     ]
    },
    {
     "name": "stdout",
     "output_type": "stream",
     "text": [
      "Feature:  X4\n"
     ]
    },
    {
     "name": "stderr",
     "output_type": "stream",
     "text": [
      "100%|██████████| 100/100 [00:17<00:00,  5.83it/s]\n"
     ]
    },
    {
     "name": "stdout",
     "output_type": "stream",
     "text": [
      "Feature:  X5\n"
     ]
    },
    {
     "name": "stderr",
     "output_type": "stream",
     "text": [
      "100%|██████████| 100/100 [00:16<00:00,  5.96it/s]\n"
     ]
    },
    {
     "name": "stdout",
     "output_type": "stream",
     "text": [
      "Feature:  X6\n"
     ]
    },
    {
     "name": "stderr",
     "output_type": "stream",
     "text": [
      "100%|██████████| 100/100 [00:16<00:00,  5.94it/s]\n"
     ]
    },
    {
     "name": "stdout",
     "output_type": "stream",
     "text": [
      "Feature:  X7\n"
     ]
    },
    {
     "name": "stderr",
     "output_type": "stream",
     "text": [
      "100%|██████████| 100/100 [00:16<00:00,  5.98it/s]\n"
     ]
    },
    {
     "name": "stdout",
     "output_type": "stream",
     "text": [
      "Feature:  X8\n"
     ]
    },
    {
     "name": "stderr",
     "output_type": "stream",
     "text": [
      "100%|██████████| 100/100 [00:16<00:00,  5.92it/s]\n"
     ]
    },
    {
     "name": "stdout",
     "output_type": "stream",
     "text": [
      "Feature:  X9\n"
     ]
    },
    {
     "name": "stderr",
     "output_type": "stream",
     "text": [
      "100%|██████████| 100/100 [00:17<00:00,  5.74it/s]\n"
     ]
    },
    {
     "name": "stdout",
     "output_type": "stream",
     "text": [
      "Feature:  X10\n"
     ]
    },
    {
     "name": "stderr",
     "output_type": "stream",
     "text": [
      "100%|██████████| 100/100 [00:19<00:00,  5.19it/s]\n"
     ]
    }
   ],
   "source": [
    "from tqdm import tqdm\n",
    "\n",
    "Performance = {'Error_PEHE': [], 'Error_ATE': [], 'MSE_0': [], 'MSE_1':  [], 'Feature': [], 'Iteration': []}\n",
    "\n",
    "# Features\n",
    "# =-=-=-=-=-=-=-=-=-=-=-=-=-=-=-=-=-=-=-=-=-=-=-=-=-=-=-=-=-=-=-=-=-=-=-=-=-=-=-=-=-=-=-=\n",
    "for i in range(testX.shape[1]):\n",
    "    print('Feature: ', Features[i])\n",
    "\n",
    "    for Sim in tqdm(range(nSimulations)):\n",
    "        testX_new = testX.copy()\n",
    "        \n",
    "        # Shuffle Feature-i\n",
    "        np.random.shuffle(testX_new[:,0])\n",
    "\n",
    "        # Get predictions\n",
    "        yt_hat_test  = dragonnet.predict( testX_new, verbose=False )\n",
    "        test_y_hat = yt_hat_test[:,:2]\n",
    "\n",
    "        # Include Feature performance\n",
    "        Performance['Error_PEHE'] += [PEHE(test_potential_Y, test_y_hat)]\n",
    "        Performance['Error_ATE'] += [ATE(test_potential_Y, test_y_hat)  ]\n",
    "        Performance['MSE_0'] += [MSE(test_potential_Y[:,0], test_y_hat[:,0])]\n",
    "        Performance['MSE_1'] += [MSE(test_potential_Y[:,1], test_y_hat[:,1])]\n",
    "        Performance['Feature'] += [Features[i]]\n",
    "        Performance['Iteration'] += [Sim]"
   ]
  },
  {
   "cell_type": "code",
   "execution_count": 10,
   "metadata": {},
   "outputs": [],
   "source": [
    "df = pd.DataFrame.from_dict(Performance)\n",
    "\n",
    "for performanceMetric in ['Error_PEHE', 'Error_ATE', 'MSE_0', 'MSE_1']:\n",
    "    df[performanceMetric] = df[performanceMetric] - Results[performanceMetric]\n",
    "\n",
    "\n",
    "df.to_csv(f'PFI/Problem={Problem}-{problem_type}-{p}_Model={Model}.csv', index = False)"
   ]
  },
  {
   "attachments": {},
   "cell_type": "markdown",
   "metadata": {},
   "source": [
    "## Shap"
   ]
  },
  {
   "cell_type": "code",
   "execution_count": 11,
   "metadata": {},
   "outputs": [
    {
     "name": "stdout",
     "output_type": "stream",
     "text": [
      "[INFO] SHAP values calculated\n"
     ]
    }
   ],
   "source": [
    "import shap\n",
    "explainer = shap.DeepExplainer(dragonnet, trainX)\n",
    "\n",
    "shap_values = explainer.shap_values(testX)\n",
    "\n",
    "np.savez(f'SHAP/Problem={Problem}-{problem_type}-{p}_Model={Model}.npz', shap_values=shap_values, Features=np.array(Features))\n",
    "print('[INFO] SHAP values calculated')"
   ]
  }
 ],
 "metadata": {
  "kernelspec": {
   "display_name": "tensorflow",
   "language": "python",
   "name": "python3"
  },
  "language_info": {
   "codemirror_mode": {
    "name": "ipython",
    "version": 3
   },
   "file_extension": ".py",
   "mimetype": "text/x-python",
   "name": "python",
   "nbconvert_exporter": "python",
   "pygments_lexer": "ipython3",
   "version": "3.8.16"
  },
  "toc": {
   "base_numbering": 1,
   "nav_menu": {},
   "number_sections": true,
   "sideBar": true,
   "skip_h1_title": false,
   "title_cell": "Table of Contents",
   "title_sidebar": "Contents",
   "toc_cell": false,
   "toc_position": {
    "height": "calc(100% - 180px)",
    "left": "10px",
    "top": "150px",
    "width": "307.2px"
   },
   "toc_section_display": true,
   "toc_window_display": true
  },
  "vscode": {
   "interpreter": {
    "hash": "f8692f46610980770f61291bec1cab73f5a660600a4995e682050817c9e58235"
   }
  }
 },
 "nbformat": 4,
 "nbformat_minor": 4
}
